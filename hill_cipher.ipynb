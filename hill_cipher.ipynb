{
 "cells": [
  {
   "cell_type": "markdown",
   "metadata": {},
   "source": [
    "### Imports"
   ]
  },
  {
   "cell_type": "code",
   "execution_count": 70,
   "metadata": {},
   "outputs": [],
   "source": [
    "import numpy as np"
   ]
  },
  {
   "cell_type": "markdown",
   "metadata": {},
   "source": [
    "### Setup"
   ]
  },
  {
   "cell_type": "code",
   "execution_count": 71,
   "metadata": {},
   "outputs": [],
   "source": [
    "strtoint = {\n",
    "    'A':0,\n",
    "    'B':1,\n",
    "    'C':2,\n",
    "    'D':3,\n",
    "    'E':4,\n",
    "    'F':5,\n",
    "    'G':6,\n",
    "    'H':7,\n",
    "    'I':8,\n",
    "    'J':9,\n",
    "    'K':10,\n",
    "    'L':11,\n",
    "    'M':12,\n",
    "    'N':13,\n",
    "    'O':14,\n",
    "    'P':15,\n",
    "    'Q':16,\n",
    "    'R':17,\n",
    "    'S':18,\n",
    "    'T':19,\n",
    "    'U':20,\n",
    "    'V':21,\n",
    "    'W':22,\n",
    "    'X':23,\n",
    "    'Y':24,\n",
    "    'Z':25,\n",
    "}\n",
    "intostr = {v:k for k,v in strtoint.items()}"
   ]
  },
  {
   "cell_type": "markdown",
   "metadata": {},
   "source": [
    "## Encryption"
   ]
  },
  {
   "cell_type": "markdown",
   "metadata": {},
   "source": [
    "### Take input for cipher key and plaintext"
   ]
  },
  {
   "cell_type": "code",
   "execution_count": 98,
   "metadata": {},
   "outputs": [],
   "source": [
    "# cipher_key_str = input(\"Enter the key: \").upper()\n",
    "# plaintext_str = input(\"Enter the plaintext: \").upper()\n",
    "cipher_key_str = 'GYBNQKURP'\n",
    "plaintext_str = 'ACT'"
   ]
  },
  {
   "cell_type": "code",
   "execution_count": 73,
   "metadata": {},
   "outputs": [],
   "source": [
    "def str_to_int(str_inp):\n",
    "    out_list = []\n",
    "    for el in str_inp:\n",
    "        out_list.append(strtoint[el])\n",
    "    return out_list"
   ]
  },
  {
   "cell_type": "code",
   "execution_count": 80,
   "metadata": {},
   "outputs": [],
   "source": [
    "def int_to_str(int_inp):\n",
    "    out_list = []\n",
    "    for el in int_inp:\n",
    "        out_list.append(intostr[el])\n",
    "    return out_list"
   ]
  },
  {
   "cell_type": "code",
   "execution_count": 78,
   "metadata": {},
   "outputs": [
    {
     "name": "stdout",
     "output_type": "stream",
     "text": [
      "cipher_key=[6, 24, 1, 13, 16, 10, 20, 17, 15]\n",
      "plaintext=[0, 2, 19]\n"
     ]
    }
   ],
   "source": [
    "cipher_key = str_to_int(cipher_key_str)\n",
    "plaintext = str_to_int(plaintext_str)\n",
    "print(f'{cipher_key=}\\n{plaintext=}')"
   ]
  },
  {
   "cell_type": "code",
   "execution_count": 79,
   "metadata": {},
   "outputs": [],
   "source": [
    "# cipher_key = []\n",
    "# for el in cipher_key_str:\n",
    "#     cipher_key.append(stoi[el])\n",
    "# plaintext = []\n",
    "# for el in plaintext_str:\n",
    "#     plaintext.append(stoi[el])\n",
    "# print(f'{cipher_key=}\\n{plaintext=}')\n"
   ]
  },
  {
   "cell_type": "markdown",
   "metadata": {},
   "source": [
    "Finding out the matrix size"
   ]
  },
  {
   "cell_type": "code",
   "execution_count": 38,
   "metadata": {},
   "outputs": [
    {
     "name": "stdout",
     "output_type": "stream",
     "text": [
      "key_len=9\n",
      "matrix_size=3\n"
     ]
    }
   ],
   "source": [
    "# matrix_size = 0\n",
    "# key_len = len(cipher_key)\n",
    "# print(f'{key_len=}')\n",
    "# for i in range(1,len(cipher_key)//2):\n",
    "#     if(key_len%i==0):\n",
    "#         matrix_size = i\n",
    "# print(f'{matrix_size=}')"
   ]
  },
  {
   "cell_type": "code",
   "execution_count": 85,
   "metadata": {},
   "outputs": [],
   "source": [
    "def matrix_size_finder(cipher_key):\n",
    "    matrix_size = 0\n",
    "    key_len = len(cipher_key)\n",
    "    print(f'{key_len=}')\n",
    "    for i in range(1,len(cipher_key)//2):\n",
    "        if(key_len%i==0):\n",
    "            matrix_size = i\n",
    "    print(f'{matrix_size=}')\n",
    "    return matrix_size"
   ]
  },
  {
   "cell_type": "code",
   "execution_count": 89,
   "metadata": {},
   "outputs": [
    {
     "name": "stdout",
     "output_type": "stream",
     "text": [
      "key_len=9\n",
      "matrix_size=3\n"
     ]
    },
    {
     "data": {
      "text/plain": [
       "3"
      ]
     },
     "execution_count": 89,
     "metadata": {},
     "output_type": "execute_result"
    }
   ],
   "source": [
    "matrix_size = matrix_size_finder(cipher_key)\n",
    "matrix_size"
   ]
  },
  {
   "cell_type": "code",
   "execution_count": 39,
   "metadata": {},
   "outputs": [
    {
     "data": {
      "text/plain": [
       "[[6, 24, 1], [13, 16, 10], [20, 17, 15]]"
      ]
     },
     "execution_count": 39,
     "metadata": {},
     "output_type": "execute_result"
    }
   ],
   "source": [
    "# arr = []\n",
    "# last_idx = 0\n",
    "# for i in range(matrix_size):\n",
    "#     temp = []\n",
    "#     for j in range(matrix_size):\n",
    "#         temp.append(cipher_key[last_idx+j])\n",
    "#     last_idx = (i+1)*matrix_size\n",
    "#     arr.append(temp)\n",
    "# arr"
   ]
  },
  {
   "cell_type": "code",
   "execution_count": 88,
   "metadata": {},
   "outputs": [],
   "source": [
    "def matrix_build(cipher_key,matrix_size):\n",
    "    arr = []\n",
    "    last_idx = 0\n",
    "    for i in range(matrix_size):\n",
    "        temp = []\n",
    "        for j in range(matrix_size):\n",
    "            temp.append(cipher_key[last_idx+j])\n",
    "        last_idx = (i+1)*matrix_size\n",
    "        arr.append(temp)\n",
    "    return arr"
   ]
  },
  {
   "cell_type": "code",
   "execution_count": 91,
   "metadata": {},
   "outputs": [
    {
     "data": {
      "text/plain": [
       "[[6, 24, 1], [13, 16, 10], [20, 17, 15]]"
      ]
     },
     "execution_count": 91,
     "metadata": {},
     "output_type": "execute_result"
    }
   ],
   "source": [
    "arr = matrix_build(cipher_key,matrix_size)\n",
    "arr"
   ]
  },
  {
   "cell_type": "code",
   "execution_count": 45,
   "metadata": {},
   "outputs": [
    {
     "name": "stdout",
     "output_type": "stream",
     "text": [
      "key_matrix=array([[ 6, 24,  1],\n",
      "       [13, 16, 10],\n",
      "       [20, 17, 15]])\n",
      "plaintext_matrix=array([ 0,  2, 19])\n"
     ]
    }
   ],
   "source": [
    "key_matrix = np.array(arr)\n",
    "plaintext_matrix = np.array(plaintext)\n",
    "print(f'{key_matrix=}\\n{plaintext_matrix=}')"
   ]
  },
  {
   "cell_type": "code",
   "execution_count": 94,
   "metadata": {},
   "outputs": [
    {
     "data": {
      "text/plain": [
       "array([ 67, 222, 319])"
      ]
     },
     "execution_count": 94,
     "metadata": {},
     "output_type": "execute_result"
    }
   ],
   "source": [
    "cipher_text = key_matrix @ plaintext_matrix\n",
    "cipher_text"
   ]
  },
  {
   "cell_type": "code",
   "execution_count": 96,
   "metadata": {},
   "outputs": [
    {
     "data": {
      "text/plain": [
       "'POH'"
      ]
     },
     "execution_count": 96,
     "metadata": {},
     "output_type": "execute_result"
    }
   ],
   "source": [
    "cipher_text_str = []\n",
    "for i in range(len(cipher_text)):\n",
    "    cipher_text[i] = cipher_text[i] % 26\n",
    "    cipher_text_str.append(cipher_text[i])\n",
    "cipher_text_str = ''.join(int_to_str(cipher_text_str))\n",
    "cipher_text_str"
   ]
  },
  {
   "cell_type": "code",
   "execution_count": 102,
   "metadata": {},
   "outputs": [],
   "source": [
    "def encrypt(cipher_key_str,plaintext_str):\n",
    "    # Converting from string to int\n",
    "    cipher_key = str_to_int(cipher_key_str)\n",
    "    plaintext = str_to_int(plaintext_str)\n",
    "    \n",
    "    #finding matrix size\n",
    "    matrix_size = matrix_size_finder(cipher_key)\n",
    "    # building the matrix as we want it\n",
    "    arr = matrix_build(cipher_key,matrix_size)\n",
    "    key_matrix = np.array(arr)\n",
    "    plaintext_matrix = np.array(plaintext)\n",
    "\n",
    "    # Getting our cipher text\n",
    "    cipher_text = key_matrix @ plaintext_matrix\n",
    "\n",
    "    cipher_text_str = []\n",
    "    for i in range(len(cipher_text)):\n",
    "        cipher_text[i] = cipher_text[i] % 26\n",
    "        cipher_text_str.append(cipher_text[i])\n",
    "    cipher_text_str = ''.join(int_to_str(cipher_text_str))\n",
    "\n",
    "    return cipher_text_str"
   ]
  },
  {
   "cell_type": "code",
   "execution_count": 103,
   "metadata": {},
   "outputs": [
    {
     "name": "stdout",
     "output_type": "stream",
     "text": [
      "key_len=9\n",
      "matrix_size=3\n",
      "POH\n"
     ]
    }
   ],
   "source": [
    "print(encrypt(cipher_key_str,plaintext_str))"
   ]
  },
  {
   "cell_type": "markdown",
   "metadata": {},
   "source": [
    "## Decryption"
   ]
  },
  {
   "cell_type": "code",
   "execution_count": 107,
   "metadata": {},
   "outputs": [],
   "source": [
    "def mod_inverse(a, m):\n",
    "    # Find the modular inverse of 'a' modulo 'm'\n",
    "    for i in range(1, m):\n",
    "        if (a * i) % m == 1:\n",
    "            return i\n",
    "    raise ValueError(\"Modular inverse does not exist\")"
   ]
  },
  {
   "cell_type": "code",
   "execution_count": 108,
   "metadata": {},
   "outputs": [],
   "source": [
    "def hill_cipher_inverse(matrix, modulus):\n",
    "    det = int(round(np.linalg.det(matrix))) % modulus\n",
    "    det_inv = mod_inverse(det, modulus)\n",
    "    adjugate_matrix = np.round(det_inv * np.linalg.inv(matrix)).astype(int) % modulus\n",
    "    return adjugate_matrix\n"
   ]
  },
  {
   "cell_type": "code",
   "execution_count": 125,
   "metadata": {},
   "outputs": [],
   "source": [
    "def decryption(ciphertext_str,cipher_key_str):\n",
    "    #Converting to int\n",
    "    cipher_key = str_to_int(cipher_key_str)\n",
    "    cipher_text = str_to_int(ciphertext_str)\n",
    "\n",
    "    #finding matrix size\n",
    "    matrix_size = matrix_size_finder(cipher_key)\n",
    "    # building the matrix as we want it\n",
    "    arr = matrix_build(cipher_key,matrix_size)\n",
    "    key_matrix = np.array(arr)\n",
    "    ciphertext_matrix = np.array(cipher_text)\n",
    "\n",
    "    # invert the key matrix\n",
    "    inv_key_matrix = hill_cipher_inverse(key_matrix,26)\n",
    "    \n",
    "    # getting plaintext\n",
    "    plain_text = key_matrix @ plaintext_matrix\n",
    "\n",
    "    print(plain_text)\n",
    "    plain_text_str = []\n",
    "    for i in range(len(plain_text)):\n",
    "        plain_text[i] = plain_text[i] % 26\n",
    "        plain_text_str.append(plain_text[i])\n",
    "    # print(plain_text_str)\n",
    "    plain_text_str = ''.join(int_to_str(plain_text_str))\n",
    "\n",
    "    return plaintext_str\n",
    "    \n",
    "\n",
    "\n"
   ]
  },
  {
   "cell_type": "code",
   "execution_count": 126,
   "metadata": {},
   "outputs": [
    {
     "name": "stdout",
     "output_type": "stream",
     "text": [
      "key_len=9\n",
      "matrix_size=3\n",
      "[ 67 222 319]\n",
      "[15, 14, 7]\n"
     ]
    },
    {
     "data": {
      "text/plain": [
       "'ACT'"
      ]
     },
     "execution_count": 126,
     "metadata": {},
     "output_type": "execute_result"
    }
   ],
   "source": [
    "decryption('POH','GYBNQKURP')"
   ]
  },
  {
   "cell_type": "code",
   "execution_count": 105,
   "metadata": {},
   "outputs": [],
   "source": [
    "test_arr = np.array([[6,24,1],[13,16,10],[20,17,15]])"
   ]
  },
  {
   "cell_type": "code",
   "execution_count": 106,
   "metadata": {},
   "outputs": [
    {
     "data": {
      "text/plain": [
       "array([[ 0.15873016, -0.77777778,  0.50793651],\n",
       "       [ 0.01133787,  0.15873016, -0.10657596],\n",
       "       [-0.2244898 ,  0.85714286, -0.48979592]])"
      ]
     },
     "execution_count": 106,
     "metadata": {},
     "output_type": "execute_result"
    }
   ],
   "source": [
    "np.linalg.(test_arr)"
   ]
  },
  {
   "cell_type": "code",
   "execution_count": null,
   "metadata": {},
   "outputs": [],
   "source": []
  }
 ],
 "metadata": {
  "kernelspec": {
   "display_name": "Python 3",
   "language": "python",
   "name": "python3"
  },
  "language_info": {
   "codemirror_mode": {
    "name": "ipython",
    "version": 3
   },
   "file_extension": ".py",
   "mimetype": "text/x-python",
   "name": "python",
   "nbconvert_exporter": "python",
   "pygments_lexer": "ipython3",
   "version": "3.10.12"
  }
 },
 "nbformat": 4,
 "nbformat_minor": 2
}
