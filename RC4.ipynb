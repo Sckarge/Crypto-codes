{
 "cells": [
  {
   "cell_type": "code",
   "execution_count": 1,
   "metadata": {},
   "outputs": [],
   "source": [
    "import numpy as np"
   ]
  },
  {
   "cell_type": "code",
   "execution_count": 2,
   "metadata": {},
   "outputs": [
    {
     "name": "stdout",
     "output_type": "stream",
     "text": [
      "[0, 1, 2, 3, 4, 5, 6, 7, 8, 9, 10, 11, 12, 13, 14, 15, 16, 17, 18, 19, 20, 21, 22, 23, 24, 25, 26, 27, 28, 29, 30, 31, 32, 33, 34, 35, 36, 37, 38, 39, 40, 41, 42, 43, 44, 45, 46, 47, 48, 49, 50, 51, 52, 53, 54, 55, 56, 57, 58, 59, 60, 61, 62, 63, 64, 65, 66, 67, 68, 69, 70, 71, 72, 73, 74, 75, 76, 77, 78, 79, 80, 81, 82, 83, 84, 85, 86, 87, 88, 89, 90, 91, 92, 93, 94, 95, 96, 97, 98, 99, 100, 101, 102, 103, 104, 105, 106, 107, 108, 109, 110, 111, 112, 113, 114, 115, 116, 117, 118, 119, 120, 121, 122, 123, 124, 125, 126, 127, 128, 129, 130, 131, 132, 133, 134, 135, 136, 137, 138, 139, 140, 141, 142, 143, 144, 145, 146, 147, 148, 149, 150, 151, 152, 153, 154, 155, 156, 157, 158, 159, 160, 161, 162, 163, 164, 165, 166, 167, 168, 169, 170, 171, 172, 173, 174, 175, 176, 177, 178, 179, 180, 181, 182, 183, 184, 185, 186, 187, 188, 189, 190, 191, 192, 193, 194, 195, 196, 197, 198, 199, 200, 201, 202, 203, 204, 205, 206, 207, 208, 209, 210, 211, 212, 213, 214, 215, 216, 217, 218, 219, 220, 221, 222, 223, 224, 225, 226, 227, 228, 229, 230, 231, 232, 233, 234, 235, 236, 237, 238, 239, 240, 241, 242, 243, 244, 245, 246, 247, 248, 249, 250, 251, 252, 253, 254, 255]\n"
     ]
    }
   ],
   "source": [
    "S = []\n",
    "for i in range(256):\n",
    "    S.append(i)\n",
    "print(S)"
   ]
  },
  {
   "cell_type": "code",
   "execution_count": 18,
   "metadata": {},
   "outputs": [],
   "source": [
    "key = 'I AM THE KEY'\n",
    "plaintext = 'HELLO WORLD'"
   ]
  },
  {
   "cell_type": "code",
   "execution_count": 19,
   "metadata": {},
   "outputs": [
    {
     "name": "stdout",
     "output_type": "stream",
     "text": [
      "[73, 32, 65, 77, 32, 84, 72, 69, 32, 75, 69, 89]\n"
     ]
    }
   ],
   "source": [
    "key_ascii = []\n",
    "for e in key:\n",
    "    key_ascii.append(ord(e))\n",
    "print(key_ascii)"
   ]
  },
  {
   "cell_type": "code",
   "execution_count": 11,
   "metadata": {},
   "outputs": [
    {
     "name": "stdout",
     "output_type": "stream",
     "text": [
      "[73, 32, 65, 77, 32, 84, 72, 69, 32, 75, 69, 89, 73, 32, 65, 77, 32, 84, 72, 69, 32, 75, 69, 89, 73, 32, 65, 77, 32, 84, 72, 69, 32, 75, 69, 89, 73, 32, 65, 77, 32, 84, 72, 69, 32, 75, 69, 89, 73, 32, 65, 77, 32, 84, 72, 69, 32, 75, 69, 89, 73, 32, 65, 77, 32, 84, 72, 69, 32, 75, 69, 89, 73, 32, 65, 77, 32, 84, 72, 69, 32, 75, 69, 89, 73, 32, 65, 77, 32, 84, 72, 69, 32, 75, 69, 89, 73, 32, 65, 77, 32, 84, 72, 69, 32, 75, 69, 89, 73, 32, 65, 77, 32, 84, 72, 69, 32, 75, 69, 89, 73, 32, 65, 77, 32, 84, 72, 69, 32, 75, 69, 89, 73, 32, 65, 77, 32, 84, 72, 69, 32, 75, 69, 89, 73, 32, 65, 77, 32, 84, 72, 69, 32, 75, 69, 89, 73, 32, 65, 77, 32, 84, 72, 69, 32, 75, 69, 89, 73, 32, 65, 77, 32, 84, 72, 69, 32, 75, 69, 89, 73, 32, 65, 77, 32, 84, 72, 69, 32, 75, 69, 89, 73, 32, 65, 77, 32, 84, 72, 69, 32, 75, 69, 89, 73, 32, 65, 77, 32, 84, 72, 69, 32, 75, 69, 89, 73, 32, 65, 77, 32, 84, 72, 69, 32, 75, 69, 89, 73, 32, 65, 77, 32, 84, 72, 69, 32, 75, 69, 89, 73, 32, 65, 77, 32, 84, 72, 69, 32, 75, 69, 89, 73, 32, 65, 77]\n"
     ]
    }
   ],
   "source": [
    "K = []\n",
    "for i in range(256):\n",
    "    K.append(key_ascii[(i%len(key_ascii))])\n",
    "print(K)"
   ]
  },
  {
   "cell_type": "markdown",
   "metadata": {},
   "source": [
    "### Key scheduling algorithm"
   ]
  },
  {
   "cell_type": "code",
   "execution_count": 13,
   "metadata": {},
   "outputs": [
    {
     "name": "stdout",
     "output_type": "stream",
     "text": [
      "[49, 28, 10, 84, 120, 235, 199, 226, 205, 85, 48, 127, 208, 224, 14, 1, 77, 255, 89, 242, 188, 36, 160, 80, 13, 6, 209, 109, 118, 39, 133, 105, 75, 192, 44, 168, 69, 40, 193, 16, 32, 110, 108, 220, 131, 141, 231, 145, 163, 91, 30, 78, 169, 62, 155, 92, 219, 135, 15, 31, 253, 182, 254, 42, 66, 11, 197, 20, 206, 221, 33, 148, 138, 29, 82, 103, 106, 152, 177, 167, 94, 179, 57, 246, 117, 21, 72, 166, 239, 50, 164, 173, 154, 223, 9, 119, 227, 88, 107, 71, 111, 134, 232, 60, 7, 67, 115, 222, 45, 122, 250, 174, 104, 25, 68, 128, 213, 212, 27, 196, 172, 37, 161, 184, 181, 201, 237, 61, 63, 151, 70, 194, 249, 171, 241, 76, 185, 190, 186, 18, 202, 24, 3, 214, 52, 240, 112, 195, 126, 217, 54, 251, 238, 175, 53, 156, 65, 100, 34, 248, 98, 143, 86, 233, 244, 56, 236, 153, 204, 4, 81, 158, 162, 90, 38, 210, 203, 46, 137, 150, 17, 26, 74, 149, 170, 225, 144, 178, 43, 228, 142, 215, 96, 95, 58, 8, 114, 87, 189, 59, 176, 129, 19, 123, 132, 230, 216, 247, 73, 41, 180, 113, 139, 234, 207, 211, 125, 245, 23, 97, 252, 121, 35, 191, 47, 93, 22, 64, 102, 198, 147, 130, 159, 99, 0, 124, 55, 183, 218, 157, 101, 136, 51, 165, 140, 187, 83, 243, 5, 229, 200, 2, 116, 79, 12, 146]\n"
     ]
    }
   ],
   "source": [
    "j = 0\n",
    "for i in range(256):\n",
    "    j = (j + S[i] + K[i])%256\n",
    "    temp = S[i]\n",
    "    S[i] = S[j]\n",
    "    S[j] = temp\n",
    "print(S)"
   ]
  },
  {
   "cell_type": "markdown",
   "metadata": {},
   "source": [
    "### PRNGA"
   ]
  },
  {
   "cell_type": "code",
   "execution_count": 20,
   "metadata": {},
   "outputs": [
    {
     "name": "stdout",
     "output_type": "stream",
     "text": [
      "[72, 69, 76, 76, 79, 32, 87, 79, 82, 76, 68]\n"
     ]
    }
   ],
   "source": [
    "pt_ascii = []\n",
    "for e in plaintext:\n",
    "    pt_ascii.append(ord(e))\n",
    "print(pt_ascii)"
   ]
  },
  {
   "cell_type": "code",
   "execution_count": 21,
   "metadata": {},
   "outputs": [
    {
     "name": "stdout",
     "output_type": "stream",
     "text": [
      "[202, 17, 203, 51, 75, 229, 46, 196, 189, 82, 40]\n"
     ]
    }
   ],
   "source": [
    "keystream = []\n",
    "i = j = 0\n",
    "for i in range(len(pt_ascii)):\n",
    "        j = (j + S[i])%256\n",
    "        temp = S[i]\n",
    "        S[i] = S[j]\n",
    "        S[j] = temp\n",
    "        t = (S[i] + S[j])%256\n",
    "        keystream.append(S[t])\n",
    "print(keystream)"
   ]
  },
  {
   "cell_type": "code",
   "execution_count": 25,
   "metadata": {},
   "outputs": [
    {
     "name": "stdout",
     "output_type": "stream",
     "text": [
      "T\u0004Åyï\u001el\n"
     ]
    }
   ],
   "source": [
    "ciphertext = [pt ^ ks for pt, ks in zip(pt_ascii, keystream)]\n",
    "ciphertext_str = ''.join([chr(e) for e in ciphertext])\n",
    "print(ciphertext_str)"
   ]
  },
  {
   "cell_type": "markdown",
   "metadata": {},
   "source": [
    "### DECRYPTION\n",
    "We will recreate the decryption using the key stream we already have. In real use, this would be recreated on the reciever's side"
   ]
  },
  {
   "cell_type": "code",
   "execution_count": 27,
   "metadata": {},
   "outputs": [
    {
     "name": "stdout",
     "output_type": "stream",
     "text": [
      "HELLO WORLD\n"
     ]
    }
   ],
   "source": [
    "plaintext_reciever_ascii = [ct ^ ks for ct, ks in zip(ciphertext, keystream)]\n",
    "plaintext_reciever_str = ''.join([chr(e) for e in plaintext_reciever_ascii])\n",
    "print(plaintext_reciever_str)"
   ]
  },
  {
   "cell_type": "code",
   "execution_count": null,
   "metadata": {},
   "outputs": [],
   "source": []
  }
 ],
 "metadata": {
  "kernelspec": {
   "display_name": "Python 3",
   "language": "python",
   "name": "python3"
  },
  "language_info": {
   "codemirror_mode": {
    "name": "ipython",
    "version": 3
   },
   "file_extension": ".py",
   "mimetype": "text/x-python",
   "name": "python",
   "nbconvert_exporter": "python",
   "pygments_lexer": "ipython3",
   "version": "3.10.12"
  }
 },
 "nbformat": 4,
 "nbformat_minor": 2
}
