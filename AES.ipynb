{
 "cells": [
  {
   "cell_type": "code",
   "execution_count": 1,
   "metadata": {},
   "outputs": [],
   "source": [
    "import numpy as np"
   ]
  },
  {
   "cell_type": "markdown",
   "metadata": {},
   "source": [
    "## Utility functions"
   ]
  },
  {
   "cell_type": "code",
   "execution_count": 1,
   "metadata": {},
   "outputs": [],
   "source": [
    "def hex2bin(s):\n",
    "\tmp = {'0': \"0000\",\n",
    "\t\t'1': \"0001\",\n",
    "\t\t'2': \"0010\",\n",
    "\t\t'3': \"0011\",\n",
    "\t\t'4': \"0100\",\n",
    "\t\t'5': \"0101\",\n",
    "\t\t'6': \"0110\",\n",
    "\t\t'7': \"0111\",\n",
    "\t\t'8': \"1000\",\n",
    "\t\t'9': \"1001\",\n",
    "\t\t'A': \"1010\",\n",
    "\t\t'B': \"1011\",\n",
    "\t\t'C': \"1100\",\n",
    "\t\t'D': \"1101\",\n",
    "\t\t'E': \"1110\",\n",
    "\t\t'F': \"1111\"}\n",
    "\tbin = \"\"\n",
    "\tfor i in range(len(s)):\n",
    "\t\tbin = bin + mp[s[i]]\n",
    "\treturn bin\n"
   ]
  },
  {
   "cell_type": "code",
   "execution_count": 2,
   "metadata": {},
   "outputs": [],
   "source": [
    "def bin2hex(s):\n",
    "\tmp = {\"0000\": '0',\n",
    "\t\t\"0001\": '1',\n",
    "\t\t\"0010\": '2',\n",
    "\t\t\"0011\": '3',\n",
    "\t\t\"0100\": '4',\n",
    "\t\t\"0101\": '5',\n",
    "\t\t\"0110\": '6',\n",
    "\t\t\"0111\": '7',\n",
    "\t\t\"1000\": '8',\n",
    "\t\t\"1001\": '9',\n",
    "\t\t\"1010\": 'A',\n",
    "\t\t\"1011\": 'B',\n",
    "\t\t\"1100\": 'C',\n",
    "\t\t\"1101\": 'D',\n",
    "\t\t\"1110\": 'E',\n",
    "\t\t\"1111\": 'F'}\n",
    "\thex = \"\"\n",
    "\tfor i in range(0, len(s), 4):\n",
    "\t\t# ch = \"\"\n",
    "\t\t# ch = ch + s[i]\n",
    "\t\t# ch = ch + s[i + 1]\n",
    "\t\t# ch = ch + s[i + 2]\n",
    "\t\t# ch = ch + s[i + 3]\n",
    "\t\tch = s[i:i+4]\n",
    "\t\thex = hex + mp[ch]\n",
    "\n",
    "\treturn hex"
   ]
  },
  {
   "cell_type": "code",
   "execution_count": 3,
   "metadata": {},
   "outputs": [],
   "source": [
    "def bin2dec(s):\n",
    "    dec = 0\n",
    "    sle = len(s)\n",
    "    for i in range(sle):\n",
    "        dec+=int(s[i])*(2**(sle-i-1))\n",
    "    return dec"
   ]
  },
  {
   "cell_type": "code",
   "execution_count": 4,
   "metadata": {},
   "outputs": [],
   "source": [
    "def dec2bin(n,length=-1):\n",
    "    bin = ''\n",
    "    m = n\n",
    "    while m!=0:\n",
    "        rem = m%2\n",
    "        m//=2\n",
    "        bin = str(rem) + bin\n",
    "    l = len(bin)\n",
    "    # if l<length and l!=-1:\n",
    "    padding = (length-l)*'0'\n",
    "    bin =  padding + bin\n",
    "    return bin"
   ]
  },
  {
   "cell_type": "code",
   "execution_count": 5,
   "metadata": {},
   "outputs": [],
   "source": [
    "def dec2hex(n,le=-1):\n",
    "    '''Only made to handle 2 digit hex'''\n",
    "    m = n\n",
    "    l = 0\n",
    "    while m > 1:\n",
    "        m/=16\n",
    "        l+=1\n",
    "    l*=4\n",
    "    # print(f'{l=}')\n",
    "    bin = dec2bin(n,l)\n",
    "    hex = bin2hex(bin)\n",
    "    # print(f'{le=}','padding = ',le-len(hex))\n",
    "    if le != -1 and len(hex) < le:\n",
    "        hex = (le-len(hex))*'0' + hex\n",
    "    return hex"
   ]
  },
  {
   "cell_type": "code",
   "execution_count": 6,
   "metadata": {},
   "outputs": [
    {
     "data": {
      "text/plain": [
       "'000000FFFF'"
      ]
     },
     "execution_count": 6,
     "metadata": {},
     "output_type": "execute_result"
    }
   ],
   "source": [
    "dec2hex(65535,10)"
   ]
  },
  {
   "cell_type": "code",
   "execution_count": 7,
   "metadata": {},
   "outputs": [],
   "source": [
    "def hex2dec(hex_in):\n",
    "    bin = hex2bin(hex_in)\n",
    "    # print(bin)\n",
    "    dec = bin2dec(bin)\n",
    "    # print(dec)\n",
    "    return dec"
   ]
  },
  {
   "cell_type": "code",
   "execution_count": 8,
   "metadata": {},
   "outputs": [
    {
     "data": {
      "text/plain": [
       "17"
      ]
     },
     "execution_count": 8,
     "metadata": {},
     "output_type": "execute_result"
    }
   ],
   "source": [
    "hex2dec('11')"
   ]
  },
  {
   "cell_type": "markdown",
   "metadata": {},
   "source": [
    "## Key Generation"
   ]
  },
  {
   "cell_type": "code",
   "execution_count": 9,
   "metadata": {},
   "outputs": [],
   "source": [
    "cipher_key = [[0x2b, 0x7e, 0x15, 0x16],   # this is 4 bytes in a row \n",
    "              [0x28, 0xae, 0xd2, 0xa6],    \n",
    "              [0xab, 0xf7, 0x97, 0x21],    \n",
    "              [0x09, 0x25, 0x5d, 0xc6]]"
   ]
  },
  {
   "cell_type": "code",
   "execution_count": 10,
   "metadata": {},
   "outputs": [],
   "source": [
    "def word_xor(word1,word2):\n",
    "    final_word = []\n",
    "    for i in range(4):\n",
    "        final_word.append(word1[i] ^ word2[i])\n",
    "    return final_word"
   ]
  },
  {
   "cell_type": "code",
   "execution_count": 28,
   "metadata": {},
   "outputs": [],
   "source": [
    "# word_xor(cipher_key[0],cipher_key[1])"
   ]
  },
  {
   "cell_type": "markdown",
   "metadata": {},
   "source": [
    "NOTE: Here in subword each individual byte in the word is substituted by a diff byte  \n",
    "In hex a byte is of length 2 the first is the row number and the second is the column number"
   ]
  },
  {
   "cell_type": "code",
   "execution_count": 13,
   "metadata": {},
   "outputs": [],
   "source": [
    "def calc_t(prev_round_key,round_num):\n",
    "    s_box = [\n",
    "    [0x63, 0x7c, 0x77, 0x7b, 0xf2, 0x6b, 0x6f, 0xc5, 0x30, 0x01, 0x67, 0x2b, 0xfe, 0xd7, 0xab, 0x76],\n",
    "    [0xca, 0x82, 0xc9, 0x7d, 0xfa, 0x59, 0x47, 0xf0, 0xad, 0xd4, 0xa2, 0xaf, 0x9c, 0xa4, 0x72, 0xc0],\n",
    "    [0xb7, 0xfd, 0x93, 0x26, 0x36, 0x3f, 0xf7, 0xcc, 0x34, 0xa5, 0xe5, 0xf1, 0x71, 0xd8, 0x31, 0x15],\n",
    "    [0x04, 0xc7, 0x23, 0xc3, 0x18, 0x96, 0x05, 0x9a, 0x07, 0x12, 0x80, 0xe2, 0xeb, 0x27, 0xb2, 0x75],\n",
    "    [0x09, 0x83, 0x2c, 0x1a, 0x1b, 0x6e, 0x5a, 0xa0, 0x52, 0x3b, 0xd6, 0xb3, 0x29, 0xe3, 0x2f, 0x84],\n",
    "    [0x53, 0xd1, 0x00, 0xed, 0x20, 0xfc, 0xb1, 0x5b, 0x6a, 0xcb, 0xbe, 0x39, 0x4a, 0x4c, 0x58, 0xcf],\n",
    "    [0xd0, 0xef, 0xaa, 0xfb, 0x43, 0x4d, 0x33, 0x85, 0x45, 0xf9, 0x02, 0x7f, 0x50, 0x3c, 0x9f, 0xa8],\n",
    "    [0x51, 0xa3, 0x40, 0x8f, 0x92, 0x9d, 0x38, 0xf5, 0xbc, 0xb6, 0xda, 0x21, 0x10, 0xff, 0xf3, 0xd2],\n",
    "    [0xcd, 0x0c, 0x13, 0xec, 0x5f, 0x97, 0x44, 0x17, 0xc4, 0xa7, 0x7e, 0x3d, 0x64, 0x5d, 0x19, 0x73],\n",
    "    [0x60, 0x81, 0x4f, 0xdc, 0x22, 0x2a, 0x90, 0x88, 0x46, 0xee, 0xb8, 0x14, 0xde, 0x5e, 0x0b, 0xdb],\n",
    "    [0xe0, 0x32, 0x3a, 0x0a, 0x49, 0x06, 0x24, 0x5c, 0xc2, 0xd3, 0xac, 0x62, 0x91, 0x95, 0xe4, 0x79],\n",
    "    [0xe7, 0xc8, 0x37, 0x6d, 0x8d, 0xd5, 0x4e, 0xa9, 0x6c, 0x56, 0xf4, 0xea, 0x65, 0x7a, 0xae, 0x08],\n",
    "    [0xba, 0x78, 0x25, 0x2e, 0x1c, 0xa6, 0xb4, 0xc6, 0xe8, 0xdd, 0x74, 0x1f, 0x4b, 0xbd, 0x8b, 0x8a],\n",
    "    [0x70, 0x3e, 0xb5, 0x66, 0x48, 0x03, 0xf6, 0x0e, 0x61, 0x35, 0x57, 0xb9, 0x86, 0xc1, 0x1d, 0x9e],\n",
    "    [0xe1, 0xf8, 0x98, 0x11, 0x69, 0xd9, 0x8e, 0x94, 0x9b, 0x1e, 0x87, 0xe9, 0xce, 0x55, 0x28, 0xdf],\n",
    "    [0x8c, 0xa1, 0x89, 0x0d, 0xbf, 0xe6, 0x42, 0x68, 0x41, 0x99, 0x2d, 0x0f, 0xb0, 0x54, 0xbb, 0x16]\n",
    "]\n",
    "    rcon = [\n",
    "    [0x00, 0x00, 0x00, 0x00],\n",
    "    [0x01, 0x00, 0x00, 0x00],\n",
    "    [0x02, 0x00, 0x00, 0x00],\n",
    "    [0x04, 0x00, 0x00, 0x00],\n",
    "    [0x08, 0x00, 0x00, 0x00],\n",
    "    [0x10, 0x00, 0x00, 0x00],\n",
    "    [0x20, 0x00, 0x00, 0x00],\n",
    "    [0x40, 0x00, 0x00, 0x00],\n",
    "    [0x80, 0x00, 0x00, 0x00],\n",
    "    [0x1b, 0x00, 0x00, 0x00],\n",
    "    [0x36, 0x00, 0x00, 0x00]\n",
    "]\n",
    "\n",
    "    \n",
    "    # getting the last word from the prev round key\n",
    "    w = prev_round_key[3]\n",
    "    \n",
    "    # rotate left once\n",
    "    t = w[1:] + [w[0]]\n",
    "\n",
    "    # subword substitution\n",
    "    t_new = []\n",
    "    for i in range(4):\n",
    "        byte_dec = w[i]\n",
    "        byte_hex = dec2hex(byte_dec,2)\n",
    "        row = hex2dec(byte_hex[0])\n",
    "        col = hex2dec(byte_hex[1])\n",
    "        t_new.append(s_box[row][col])\n",
    "    t = t_new\n",
    "\n",
    "    # Rcon XOR with intermediate value\n",
    "    rcon_curr = rcon[round_num] # here they usually use round/4 but we are using the actual round num so we don't need that\n",
    "    t_final = []\n",
    "    for i in range(4):\n",
    "        t_final.append(t[i] ^ rcon_curr[i]) # you can xor a list by another list\n",
    "\n",
    "    return t_final\n",
    "\n",
    "        "
   ]
  },
  {
   "cell_type": "code",
   "execution_count": 14,
   "metadata": {},
   "outputs": [],
   "source": [
    "def key_generation(initial_key,num_rounds):\n",
    "    round_keys = [initial_key]\n",
    "    for i in range(num_rounds): # Here we are only using 128 bit keys\n",
    "        # we first calculate the t value for that round\n",
    "        prev_round_key = round_keys[i]\n",
    "        t = calc_t(prev_round_key,i+1) # round nums start from 1, round 0 has no t\n",
    "\n",
    "        # print(t)\n",
    "        # XOR t with the w0 of prev key\n",
    "        tw0 = word_xor(prev_round_key[0],t)\n",
    "        tw1 = word_xor(tw0,prev_round_key[1])\n",
    "        tw2 = word_xor(tw1,prev_round_key[2])\n",
    "        tw3 = word_xor(tw2,prev_round_key[3])\n",
    "\n",
    "        round_key = [tw0,tw1,tw2,tw3]\n",
    "        round_keys.append(round_key)\n",
    "    return round_keys\n"
   ]
  },
  {
   "cell_type": "code",
   "execution_count": 22,
   "metadata": {},
   "outputs": [
    {
     "data": {
      "text/plain": [
       "[[27, 102, 218, 179],\n",
       " [24, 137, 81, 183],\n",
       " [176, 145, 77, 146],\n",
       " [17, 172, 12, 113]]"
      ]
     },
     "execution_count": 22,
     "metadata": {},
     "output_type": "execute_result"
    }
   ],
   "source": [
    "round_keys = key_generation(cipher_key,10)\n",
    "round_keys[2]"
   ]
  },
  {
   "cell_type": "code",
   "execution_count": 18,
   "metadata": {},
   "outputs": [
    {
     "name": "stdout",
     "output_type": "stream",
     "text": [
      "[[43, 126, 21, 22], [40, 174, 210, 166], [171, 247, 151, 33], [9, 37, 93, 198]]\n"
     ]
    }
   ],
   "source": [
    "print(cipher_key)"
   ]
  },
  {
   "cell_type": "markdown",
   "metadata": {},
   "source": [
    "## Encryption"
   ]
  },
  {
   "cell_type": "code",
   "execution_count": 23,
   "metadata": {},
   "outputs": [],
   "source": [
    "plaintext = [\n",
    "    [0x32, 0x88, 0x31, 0xe0],\n",
    "    [0x43, 0x5a, 0x31, 0x37],\n",
    "    [0xf6, 0x30, 0x98, 0x07],\n",
    "    [0xa8, 0x8d, 0xa2, 0x34]\n",
    "]\n"
   ]
  },
  {
   "cell_type": "markdown",
   "metadata": {},
   "source": [
    "### Step 0: Add round key"
   ]
  },
  {
   "cell_type": "code",
   "execution_count": 25,
   "metadata": {},
   "outputs": [],
   "source": [
    "def AddRoundkey(round_key,state):\n",
    "    '''Simple XOR function between a state and a round key each of 4 words or 128 bits'''\n",
    "    state_result = []\n",
    "    for i in range(4):\n",
    "        temp = [] # to maintain the word structure\n",
    "        for j in range(4):\n",
    "            temp.append(round_key[i][j]^state[i][j])\n",
    "        state_result.append(temp)\n",
    "    return(state_result)"
   ]
  },
  {
   "cell_type": "code",
   "execution_count": 26,
   "metadata": {},
   "outputs": [],
   "source": [
    "state_arr = AddRoundkey(cipher_key,plaintext)"
   ]
  },
  {
   "cell_type": "markdown",
   "metadata": {},
   "source": [
    "### One round"
   ]
  },
  {
   "cell_type": "markdown",
   "metadata": {},
   "source": [
    "This is an input of **128 bits**"
   ]
  },
  {
   "cell_type": "markdown",
   "metadata": {},
   "source": [
    "#### Step 1: SubByte transformation"
   ]
  },
  {
   "cell_type": "code",
   "execution_count": 28,
   "metadata": {},
   "outputs": [],
   "source": [
    "Subbyte_order_arr = [\n",
    "    [0x63, 0x7c, 0x77, 0x7b, 0xf2, 0x6b, 0x6f, 0xc5, 0x30, 0x01, 0x67, 0x2b, 0xfe, 0xd7, 0xab, 0x76],\n",
    "    [0xca, 0x82, 0xc9, 0x7d, 0xfa, 0x59, 0x47, 0xf0, 0xad, 0xd4, 0xa2, 0xaf, 0x9c, 0xa4, 0x72, 0xc0],\n",
    "    [0xb7, 0xfd, 0x93, 0x26, 0x36, 0x3f, 0xf7, 0xcc, 0x34, 0xa5, 0xe5, 0xf1, 0x71, 0xd8, 0x31, 0x15],\n",
    "    [0x04, 0xc7, 0x23, 0xc3, 0x18, 0x96, 0x05, 0x9a, 0x07, 0x12, 0x80, 0xe2, 0xeb, 0x27, 0xb2, 0x75],\n",
    "    [0x09, 0x83, 0x2c, 0x1a, 0x1b, 0x6e, 0x5a, 0xa0, 0x52, 0x3b, 0xd6, 0xb3, 0x29, 0xe3, 0x2f, 0x84],\n",
    "    [0x53, 0xd1, 0x00, 0xed, 0x20, 0xfc, 0xb1, 0x5b, 0x6a, 0xcb, 0xbe, 0x39, 0x4a, 0x4c, 0x58, 0xcf],\n",
    "    [0xd0, 0xef, 0xaa, 0xfb, 0x43, 0x4d, 0x33, 0x85, 0x45, 0xf9, 0x02, 0x7f, 0x50, 0x3c, 0x9f, 0xa8],\n",
    "    [0x51, 0xa3, 0x40, 0x8f, 0x92, 0x9d, 0x38, 0xf5, 0xbc, 0xb6, 0xda, 0x21, 0x10, 0xff, 0xf3, 0xd2],\n",
    "    [0xcd, 0x0c, 0x13, 0xec, 0x5f, 0x97, 0x44, 0x17, 0xc4, 0xa7, 0x7e, 0x3d, 0x64, 0x5d, 0x19, 0x73],\n",
    "    [0x60, 0x81, 0x4f, 0xdc, 0x22, 0x2a, 0x90, 0x88, 0x46, 0xee, 0xb8, 0x14, 0xde, 0x5e, 0x0b, 0xdb],\n",
    "    [0xe0, 0x32, 0x3a, 0x0a, 0x49, 0x06, 0x24, 0x5c, 0xc2, 0xd3, 0xac, 0x62, 0x91, 0x95, 0xe4, 0x79],\n",
    "    [0xe7, 0xc8, 0x37, 0x6d, 0x8d, 0xd5, 0x4e, 0xa9, 0x6c, 0x56, 0xf4, 0xea, 0x65, 0x7a, 0xae, 0x08],\n",
    "    [0xba, 0x78, 0x25, 0x2e, 0x1c, 0xa6, 0xb4, 0xc6, 0xe8, 0xdd, 0x74, 0x1f, 0x4b, 0xbd, 0x8b, 0x8a],\n",
    "    [0x70, 0x3e, 0xb5, 0x66, 0x48, 0x03, 0xf6, 0x0e, 0x61, 0x35, 0x57, 0xb9, 0x86, 0xc1, 0x1d, 0x9e],\n",
    "    [0xe1, 0xf8, 0x98, 0x11, 0x69, 0xd9, 0x8e, 0x94, 0x9b, 0x1e, 0x87, 0xe9, 0xce, 0x55, 0x28, 0xdf],\n",
    "    [0x8c, 0xa1, 0x89, 0x0d, 0xbf, 0xe6, 0x42, 0x68, 0x41, 0x99, 0x2d, 0x0f, 0xb0, 0x54, 0xbb, 0x16]\n",
    "]\n"
   ]
  },
  {
   "cell_type": "code",
   "execution_count": 37,
   "metadata": {},
   "outputs": [],
   "source": [
    "def SubByte_transform(inp_arr,subbyte_array):\n",
    "    out_arr = []\n",
    "    for i in range(4):\n",
    "        out_row = []\n",
    "        for j in range(4):\n",
    "            # print(f'{inp_arr[i][j]=}')\n",
    "            hex_val = dec2hex(inp_arr[i][j],2)\n",
    "            # print(f'{hex_val=}')\n",
    "            row = int(hex2dec(hex_val[0]))\n",
    "            col = int(hex2dec(hex_val[1]))\n",
    "            out_row.append(subbyte_array[row][col])\n",
    "        out_arr.append(out_row)\n",
    "    return out_arr"
   ]
  },
  {
   "cell_type": "code",
   "execution_count": 38,
   "metadata": {},
   "outputs": [
    {
     "name": "stdout",
     "output_type": "stream",
     "text": [
      "State array before: [[25, 246, 36, 246], [107, 244, 227, 145], [93, 199, 15, 38], [161, 168, 255, 242]]\n",
      "State array after: [[212, 66, 54, 66], [127, 191, 17, 129], [76, 198, 118, 247], [50, 194, 22, 137]]\n"
     ]
    }
   ],
   "source": [
    "state_array_0 = SubByte_transform(state_arr,Subbyte_order_arr)\n",
    "print(f'State array before: {state_arr}\\nState array after: {state_array_0}')"
   ]
  },
  {
   "cell_type": "markdown",
   "metadata": {},
   "source": [
    "### Step 2: Shift rows"
   ]
  },
  {
   "cell_type": "code",
   "execution_count": 39,
   "metadata": {},
   "outputs": [],
   "source": [
    "def ShiftRows(inp_arr):\n",
    "    out = []\n",
    "    temp1  = inp_arr[0]\n",
    "    out.append(temp1)\n",
    "    temp2 = inp_arr[1][1:] + [inp_arr[1][0]]\n",
    "    print(temp2)\n",
    "    out.append(temp2)\n",
    "    temp3 = inp_arr[2][2:] + inp_arr[2][:2]\n",
    "    out.append(temp3)\n",
    "    temp4 = inp_arr[3][3:] + inp_arr[3][:3]\n",
    "    out.append(temp4)\n",
    "    return out"
   ]
  },
  {
   "cell_type": "code",
   "execution_count": 65,
   "metadata": {},
   "outputs": [
    {
     "name": "stdout",
     "output_type": "stream",
     "text": [
      "[191, 17, 129, 127]\n"
     ]
    }
   ],
   "source": [
    "state_array_1 = ShiftRows(state_array_0)"
   ]
  },
  {
   "cell_type": "code",
   "execution_count": 66,
   "metadata": {},
   "outputs": [
    {
     "data": {
      "text/plain": [
       "[[360, 66, 181, 66],\n",
       " [191, 17, 129, 127],\n",
       " [118, 247, 76, 198],\n",
       " [137, 50, 194, 22]]"
      ]
     },
     "execution_count": 66,
     "metadata": {},
     "output_type": "execute_result"
    }
   ],
   "source": [
    "state_array_1"
   ]
  },
  {
   "cell_type": "markdown",
   "metadata": {},
   "source": [
    "### Step 3: Mix columns"
   ]
  },
  {
   "cell_type": "markdown",
   "metadata": {},
   "source": [
    "(This bit of code is ChatGPT)"
   ]
  },
  {
   "cell_type": "code",
   "execution_count": 59,
   "metadata": {},
   "outputs": [],
   "source": [
    "# b = 0b00010000\n",
    "# b & 1 \n",
    "def mix_columns(state):\n",
    "    # Define the fixed polynomial matrix\n",
    "    matrix = [\n",
    "        [0x02, 0x03, 0x01, 0x01],\n",
    "        [0x01, 0x02, 0x03, 0x01],\n",
    "        [0x01, 0x01, 0x02, 0x03],\n",
    "        [0x03, 0x01, 0x01, 0x02]\n",
    "    ]\n",
    "\n",
    "    # Perform matrix multiplication\n",
    "    mixed_state = []\n",
    "    for i in range(4):\n",
    "        mixed_col = []\n",
    "        for j in range(4):\n",
    "            mixed_byte = 0\n",
    "            for k in range(4):\n",
    "                mixed_byte ^= gf_mul(matrix[i][k], state[k][j])\n",
    "                print(f'Multiplying {matrix[i][k]} and {state[k][j]}')\n",
    "            mixed_col.append(mixed_byte)\n",
    "        mixed_state.append(mixed_col)\n",
    "\n",
    "    return mixed_state\n",
    "\n",
    "# Helper function for Galois Field multiplication\n",
    "def gf_mul(a, b):\n",
    "    p = 0\n",
    "    for _ in range(8): # they are all 8 bits\n",
    "        if b & 1:\n",
    "            # if the LSB of b is 1\n",
    "            p ^= a\n",
    "        hi_bit_set = a & 0x80 # if highest bit is set for 1\n",
    "        a <<= 1 # Shift left 1 place\n",
    "        ''' We are checking if high bit is 1 in the first place because if \n",
    "        it is then after left shift this number will become larger than the 8 bits, needing reduction'''\n",
    "        if hi_bit_set:\n",
    "            a ^= 0x1b # this is an irreducible polynomial\n",
    "        b >>= 1 # shift b right by one place\n",
    "    return p\n",
    "\n"
   ]
  },
  {
   "cell_type": "code",
   "execution_count": 74,
   "metadata": {},
   "outputs": [],
   "source": [
    "def mixed_columns_new(state):\n",
    "    mixed_cols_matrix = [\n",
    "        [0x02, 0x03, 0x01, 0x01],\n",
    "        [0x01, 0x02, 0x03, 0x01],\n",
    "        [0x01, 0x01, 0x02, 0x03],\n",
    "        [0x03, 0x01, 0x01, 0x02]\n",
    "    ]\n",
    "    state_result = state\n",
    "    for i in range(4): # columns in state\n",
    "        for j in range(4): # row in state and mixed col\n",
    "            interim_result = 0\n",
    "            for k in range(4): # row in mixed cols\n",
    "                interim_result ^= gf_mul(state[j][i],mixed_cols_matrix[j][k])\n",
    "                print(f'Multiplying {state[j][i]} and {mixed_cols_matrix[j][k]}')\n",
    "                # print(f'{i=}\\n{j=}\\n{k=}')\n",
    "            state_result[j][i] = interim_result\n",
    "    \n",
    "    return state_result"
   ]
  },
  {
   "cell_type": "code",
   "execution_count": 75,
   "metadata": {},
   "outputs": [
    {
     "data": {
      "text/plain": [
       "4"
      ]
     },
     "execution_count": 75,
     "metadata": {},
     "output_type": "execute_result"
    }
   ],
   "source": [
    "a = 0b1000\n",
    "a >>=1\n",
    "a"
   ]
  },
  {
   "cell_type": "code",
   "execution_count": 76,
   "metadata": {},
   "outputs": [],
   "source": [
    "# state_array_2 = mix_columns(state_array_1)\n",
    "# state_array_2"
   ]
  },
  {
   "cell_type": "code",
   "execution_count": 77,
   "metadata": {},
   "outputs": [
    {
     "data": {
      "text/plain": [
       "[[360, 66, 181, 66],\n",
       " [191, 17, 129, 127],\n",
       " [118, 247, 76, 198],\n",
       " [137, 50, 194, 22]]"
      ]
     },
     "execution_count": 77,
     "metadata": {},
     "output_type": "execute_result"
    }
   ],
   "source": [
    "state_array_1"
   ]
  },
  {
   "cell_type": "code",
   "execution_count": 78,
   "metadata": {},
   "outputs": [
    {
     "name": "stdout",
     "output_type": "stream",
     "text": [
      "Multiplying 360 and 2\n",
      "Multiplying 360 and 3\n",
      "Multiplying 360 and 1\n",
      "Multiplying 360 and 1\n",
      "Multiplying 191 and 1\n",
      "Multiplying 191 and 2\n",
      "Multiplying 191 and 3\n",
      "Multiplying 191 and 1\n",
      "Multiplying 118 and 1\n",
      "Multiplying 118 and 1\n",
      "Multiplying 118 and 2\n",
      "Multiplying 118 and 3\n",
      "Multiplying 137 and 3\n",
      "Multiplying 137 and 1\n",
      "Multiplying 137 and 1\n",
      "Multiplying 137 and 2\n",
      "Multiplying 66 and 2\n",
      "Multiplying 66 and 3\n",
      "Multiplying 66 and 1\n",
      "Multiplying 66 and 1\n",
      "Multiplying 17 and 1\n",
      "Multiplying 17 and 2\n",
      "Multiplying 17 and 3\n",
      "Multiplying 17 and 1\n",
      "Multiplying 247 and 1\n",
      "Multiplying 247 and 1\n",
      "Multiplying 247 and 2\n",
      "Multiplying 247 and 3\n",
      "Multiplying 50 and 3\n",
      "Multiplying 50 and 1\n",
      "Multiplying 50 and 1\n",
      "Multiplying 50 and 2\n",
      "Multiplying 181 and 2\n",
      "Multiplying 181 and 3\n",
      "Multiplying 181 and 1\n",
      "Multiplying 181 and 1\n",
      "Multiplying 129 and 1\n",
      "Multiplying 129 and 2\n",
      "Multiplying 129 and 3\n",
      "Multiplying 129 and 1\n",
      "Multiplying 76 and 1\n",
      "Multiplying 76 and 1\n",
      "Multiplying 76 and 2\n",
      "Multiplying 76 and 3\n",
      "Multiplying 194 and 3\n",
      "Multiplying 194 and 1\n",
      "Multiplying 194 and 1\n",
      "Multiplying 194 and 2\n",
      "Multiplying 66 and 2\n",
      "Multiplying 66 and 3\n",
      "Multiplying 66 and 1\n",
      "Multiplying 66 and 1\n",
      "Multiplying 127 and 1\n",
      "Multiplying 127 and 2\n",
      "Multiplying 127 and 3\n",
      "Multiplying 127 and 1\n",
      "Multiplying 198 and 1\n",
      "Multiplying 198 and 1\n",
      "Multiplying 198 and 2\n",
      "Multiplying 198 and 3\n",
      "Multiplying 22 and 3\n",
      "Multiplying 22 and 1\n",
      "Multiplying 22 and 1\n",
      "Multiplying 22 and 2\n"
     ]
    },
    {
     "data": {
      "text/plain": [
       "[[360, 66, 181, 66],\n",
       " [191, 17, 129, 127],\n",
       " [118, 247, 76, 198],\n",
       " [137, 50, 194, 22]]"
      ]
     },
     "execution_count": 78,
     "metadata": {},
     "output_type": "execute_result"
    }
   ],
   "source": [
    "state_array_2_new = mixed_columns_new(state_array_1)\n",
    "state_array_2_new"
   ]
  },
  {
   "cell_type": "code",
   "execution_count": 68,
   "metadata": {},
   "outputs": [],
   "source": [
    "# if 0b01:\n",
    "#     print(\"hello\")"
   ]
  },
  {
   "cell_type": "markdown",
   "metadata": {},
   "source": [
    "### Step 4: XOR with key\n"
   ]
  },
  {
   "cell_type": "code",
   "execution_count": 79,
   "metadata": {},
   "outputs": [
    {
     "data": {
      "text/plain": [
       "[[323, 3, 236, 224],\n",
       " [188, 254, 10, 123],\n",
       " [222, 239, 80, 227],\n",
       " [40, 15, 131, 245]]"
      ]
     },
     "execution_count": 79,
     "metadata": {},
     "output_type": "execute_result"
    }
   ],
   "source": [
    "state_array_3 = AddRoundkey(round_keys[1],state_array_2_new)\n",
    "state_array_3"
   ]
  },
  {
   "cell_type": "code",
   "execution_count": null,
   "metadata": {},
   "outputs": [],
   "source": []
  }
 ],
 "metadata": {
  "kernelspec": {
   "display_name": "Python 3",
   "language": "python",
   "name": "python3"
  },
  "language_info": {
   "codemirror_mode": {
    "name": "ipython",
    "version": 3
   },
   "file_extension": ".py",
   "mimetype": "text/x-python",
   "name": "python",
   "nbconvert_exporter": "python",
   "pygments_lexer": "ipython3",
   "version": "3.10.12"
  }
 },
 "nbformat": 4,
 "nbformat_minor": 2
}
