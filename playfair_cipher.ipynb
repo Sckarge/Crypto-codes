{
 "cells": [
  {
   "cell_type": "code",
   "execution_count": 1,
   "metadata": {},
   "outputs": [],
   "source": [
    "import numpy as np"
   ]
  },
  {
   "cell_type": "markdown",
   "metadata": {},
   "source": [
    "## ENCRYPTION"
   ]
  },
  {
   "cell_type": "markdown",
   "metadata": {},
   "source": [
    "### Taking input for plaintext and cipher key"
   ]
  },
  {
   "cell_type": "code",
   "execution_count": 46,
   "metadata": {},
   "outputs": [],
   "source": [
    "plaintext = 'INSTRUMENTS'\n",
    "cipher_key = 'MONARCHY'"
   ]
  },
  {
   "cell_type": "markdown",
   "metadata": {},
   "source": [
    "### Making cipher matrix"
   ]
  },
  {
   "cell_type": "code",
   "execution_count": 47,
   "metadata": {},
   "outputs": [],
   "source": [
    "alphabets = ['A','B','C','D','E','F','G','H','I','J','K','L','M','N','O','P','Q','R','S','T','U','V','W','X','Y','Z']"
   ]
  },
  {
   "cell_type": "code",
   "execution_count": 48,
   "metadata": {},
   "outputs": [
    {
     "name": "stdout",
     "output_type": "stream",
     "text": [
      "['M', 'O', 'N', 'A', 'R', 'C', 'H', 'Y']\n"
     ]
    },
    {
     "data": {
      "text/plain": [
       "array([['M', 'O', 'N', 'A', 'R'],\n",
       "       ['C', 'H', 'Y', 'B', 'D'],\n",
       "       ['E', 'F', 'G', 'I', 'K'],\n",
       "       ['L', 'P', 'Q', 'S', 'T'],\n",
       "       ['U', 'V', 'W', 'X', 'Z']], dtype='<U1')"
      ]
     },
     "execution_count": 48,
     "metadata": {},
     "output_type": "execute_result"
    }
   ],
   "source": [
    "cipher_key_list = list(cipher_key)\n",
    "print(cipher_key_list)\n",
    "for i in range(len(alphabets)):\n",
    "    if (alphabets[i] not in cipher_key_list and alphabets[i]!='J'):\n",
    "        cipher_key_list.append(alphabets[i])\n",
    "\n",
    "cipher_key_arr = np.array(cipher_key_list).reshape(5,5)\n",
    "cipher_key_arr"
   ]
  },
  {
   "cell_type": "markdown",
   "metadata": {},
   "source": [
    "### Making bigrams"
   ]
  },
  {
   "cell_type": "code",
   "execution_count": 77,
   "metadata": {},
   "outputs": [
    {
     "data": {
      "text/plain": [
       "['IN', 'ST', 'RU', 'ME', 'NT', 'SZ']"
      ]
     },
     "execution_count": 77,
     "metadata": {},
     "output_type": "execute_result"
    }
   ],
   "source": [
    "bigrams_plaintext = []\n",
    "i=0\n",
    "while i<len(plaintext):\n",
    "    if i < len(plaintext)-1:\n",
    "        if plaintext[i] == plaintext[i+1]:\n",
    "            bigrams_plaintext.append(plaintext[i]+'X')\n",
    "            i = i+1\n",
    "            continue\n",
    "        else:\n",
    "            bigrams_plaintext.append(plaintext[i]+plaintext[i+1])\n",
    "            i+=2\n",
    "            continue\n",
    "    elif i == len(plaintext)-1:\n",
    "        bigrams_plaintext.append(plaintext[i]+'Z')\n",
    "        i+=2\n",
    "        continue\n",
    "bigrams_plaintext"
   ]
  },
  {
   "cell_type": "code",
   "execution_count": 78,
   "metadata": {},
   "outputs": [
    {
     "name": "stdout",
     "output_type": "stream",
     "text": [
      "IN\n",
      "2 3\n",
      "0 2\n",
      "\n",
      "\n",
      "ST\n",
      "3 3\n",
      "3 4\n",
      "\n",
      "\n",
      "RU\n",
      "0 4\n",
      "4 0\n",
      "\n",
      "\n",
      "ME\n",
      "0 0\n",
      "2 0\n",
      "\n",
      "\n",
      "NT\n",
      "0 2\n",
      "3 4\n",
      "\n",
      "\n",
      "SZ\n",
      "3 3\n",
      "4 4\n",
      "\n",
      "\n"
     ]
    }
   ],
   "source": [
    "# np.where(cipher_key_arr=='S')[0][0]\n",
    "cipher_text_arr = []\n",
    "for i in range(len(bigrams_plaintext)):\n",
    "    coords1 = np.where(cipher_key_arr==bigrams_plaintext[i][0])\n",
    "    x1 = coords1[0][0]\n",
    "    y1 = coords1[1][0]\n",
    "    coords2 = np.where(cipher_key_arr==bigrams_plaintext[i][1])\n",
    "    x2 = coords2[0][0]\n",
    "    y2 = coords2[1][0]\n",
    "    print(f'{bigrams_plaintext[i][0]}{bigrams_plaintext[i][1]}')\n",
    "    print(x1,y1)\n",
    "    print(x2,y2)\n",
    "    print('\\n')\n",
    "    if(y1 == y2):\n",
    "        cipher_text_arr.append(cipher_key_arr[(x1+1)%5][y1]+cipher_key_arr[(x2+1)%5][y2])\n",
    "    elif(x1==x2):\n",
    "        cipher_text_arr.append(cipher_key_arr[x1][(y1+1)%5]+cipher_key_arr[x2][(y2+1)%5])\n",
    "    else:\n",
    "        cipher_text_arr.append(cipher_key_arr[x1][y2]+cipher_key_arr[x2][y1])"
   ]
  },
  {
   "cell_type": "code",
   "execution_count": 79,
   "metadata": {},
   "outputs": [
    {
     "data": {
      "text/plain": [
       "'GATLMZCLRQTX'"
      ]
     },
     "execution_count": 79,
     "metadata": {},
     "output_type": "execute_result"
    }
   ],
   "source": [
    "cipher_text_arr\n",
    "ciphertext = ''.join(cipher_text_arr)\n",
    "ciphertext"
   ]
  },
  {
   "cell_type": "markdown",
   "metadata": {},
   "source": [
    "## DECRYPTION"
   ]
  },
  {
   "cell_type": "code",
   "execution_count": null,
   "metadata": {},
   "outputs": [],
   "source": [
    "ciphertext = 'GATLMZCLRQTX'\n",
    "cipher_key = 'MONARCHY'"
   ]
  },
  {
   "cell_type": "code",
   "execution_count": 75,
   "metadata": {},
   "outputs": [
    {
     "data": {
      "text/plain": [
       "['GA', 'TL', 'MZ', 'CL', 'RQ', 'TX']"
      ]
     },
     "execution_count": 75,
     "metadata": {},
     "output_type": "execute_result"
    }
   ],
   "source": [
    "bigrams_ciphertext = []\n",
    "i=0\n",
    "while i<len(ciphertext):\n",
    "    if i < len(ciphertext)-1:\n",
    "        if ciphertext[i] == ciphertext[i+1]:\n",
    "            bigrams_ciphertext.append(ciphertext[i]+'X')\n",
    "            i = i+1\n",
    "            continue\n",
    "        else:\n",
    "            bigrams_ciphertext.append(ciphertext[i]+ciphertext[i+1])\n",
    "            i+=2\n",
    "            continue\n",
    "    elif i == len(ciphertext)-1:\n",
    "        bigrams_ciphertext.append(ciphertext[i]+'Z')\n",
    "        i+=2\n",
    "        continue\n",
    "bigrams_ciphertext"
   ]
  },
  {
   "cell_type": "code",
   "execution_count": 82,
   "metadata": {},
   "outputs": [
    {
     "name": "stdout",
     "output_type": "stream",
     "text": [
      "GA\n",
      "2 2\n",
      "0 3\n",
      "\n",
      "\n",
      "TL\n",
      "3 4\n",
      "3 0\n",
      "\n",
      "\n",
      "MZ\n",
      "0 0\n",
      "4 4\n",
      "\n",
      "\n",
      "CL\n",
      "1 0\n",
      "3 0\n",
      "\n",
      "\n",
      "RQ\n",
      "0 4\n",
      "3 2\n",
      "\n",
      "\n",
      "TX\n",
      "3 4\n",
      "4 3\n",
      "\n",
      "\n"
     ]
    },
    {
     "data": {
      "text/plain": [
       "['IN', 'ST', 'RU', 'ME', 'NT', 'SZ']"
      ]
     },
     "execution_count": 82,
     "metadata": {},
     "output_type": "execute_result"
    }
   ],
   "source": [
    "plain_text_arr = []\n",
    "for i in range(len(bigrams_plaintext)):\n",
    "    coords1 = np.where(cipher_key_arr==bigrams_ciphertext[i][0])\n",
    "    x1 = coords1[0][0]\n",
    "    y1 = coords1[1][0]\n",
    "    coords2 = np.where(cipher_key_arr==bigrams_ciphertext[i][1])\n",
    "    x2 = coords2[0][0]\n",
    "    y2 = coords2[1][0]\n",
    "    print(f'{bigrams_ciphertext[i][0]}{bigrams_ciphertext[i][1]}')\n",
    "    print(x1,y1)\n",
    "    print(x2,y2)\n",
    "    print('\\n')\n",
    "    if(y1 == y2):\n",
    "        plain_text_arr.append(cipher_key_arr[(x1-1)%5][y1]+cipher_key_arr[(x2-1)%5][y2])\n",
    "    elif(x1==x2):\n",
    "        plain_text_arr.append(cipher_key_arr[x1][(y1-1)%5]+cipher_key_arr[x2][(y2-1)%5])\n",
    "    else:\n",
    "        plain_text_arr.append(cipher_key_arr[x1][y2]+cipher_key_arr[x2][y1])\n",
    "plain_text_arr"
   ]
  }
 ],
 "metadata": {
  "kernelspec": {
   "display_name": "Python 3",
   "language": "python",
   "name": "python3"
  },
  "language_info": {
   "codemirror_mode": {
    "name": "ipython",
    "version": 3
   },
   "file_extension": ".py",
   "mimetype": "text/x-python",
   "name": "python",
   "nbconvert_exporter": "python",
   "pygments_lexer": "ipython3",
   "version": "3.10.12"
  }
 },
 "nbformat": 4,
 "nbformat_minor": 2
}
