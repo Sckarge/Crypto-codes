{
 "cells": [
  {
   "cell_type": "code",
   "execution_count": 1,
   "metadata": {},
   "outputs": [],
   "source": [
    "def hex2bin(s):\n",
    "\tmp = {'0': \"0000\",\n",
    "\t\t'1': \"0001\",\n",
    "\t\t'2': \"0010\",\n",
    "\t\t'3': \"0011\",\n",
    "\t\t'4': \"0100\",\n",
    "\t\t'5': \"0101\",\n",
    "\t\t'6': \"0110\",\n",
    "\t\t'7': \"0111\",\n",
    "\t\t'8': \"1000\",\n",
    "\t\t'9': \"1001\",\n",
    "\t\t'A': \"1010\",\n",
    "\t\t'B': \"1011\",\n",
    "\t\t'C': \"1100\",\n",
    "\t\t'D': \"1101\",\n",
    "\t\t'E': \"1110\",\n",
    "\t\t'F': \"1111\"}\n",
    "\tbin = \"\"\n",
    "\tfor i in range(len(s)):\n",
    "\t\tbin = bin + mp[s[i]]\n",
    "\treturn bin\n"
   ]
  },
  {
   "cell_type": "code",
   "execution_count": 2,
   "metadata": {},
   "outputs": [],
   "source": [
    "def bin2hex(s):\n",
    "\tmp = {\"0000\": '0',\n",
    "\t\t\"0001\": '1',\n",
    "\t\t\"0010\": '2',\n",
    "\t\t\"0011\": '3',\n",
    "\t\t\"0100\": '4',\n",
    "\t\t\"0101\": '5',\n",
    "\t\t\"0110\": '6',\n",
    "\t\t\"0111\": '7',\n",
    "\t\t\"1000\": '8',\n",
    "\t\t\"1001\": '9',\n",
    "\t\t\"1010\": 'A',\n",
    "\t\t\"1011\": 'B',\n",
    "\t\t\"1100\": 'C',\n",
    "\t\t\"1101\": 'D',\n",
    "\t\t\"1110\": 'E',\n",
    "\t\t\"1111\": 'F'}\n",
    "\thex = \"\"\n",
    "\tfor i in range(0, len(s), 4):\n",
    "\t\t# ch = \"\"\n",
    "\t\t# ch = ch + s[i]\n",
    "\t\t# ch = ch + s[i + 1]\n",
    "\t\t# ch = ch + s[i + 2]\n",
    "\t\t# ch = ch + s[i + 3]\n",
    "\t\tch = s[i:i+4]\n",
    "\t\thex = hex + mp[ch]\n",
    "\n",
    "\treturn hex\n"
   ]
  },
  {
   "cell_type": "code",
   "execution_count": 3,
   "metadata": {},
   "outputs": [],
   "source": [
    "def bin2dec(s):\n",
    "    dec = 0\n",
    "    sle = len(s)\n",
    "    for i in range(sle):\n",
    "        dec+=int(s[i])*(2**(sle-i-1))\n",
    "    return dec"
   ]
  },
  {
   "cell_type": "code",
   "execution_count": 4,
   "metadata": {},
   "outputs": [],
   "source": [
    "def dec2bin(n,length):\n",
    "    bin = ''\n",
    "    m = n\n",
    "    while m!=0:\n",
    "        rem = m%2\n",
    "        m//=2\n",
    "        bin = str(rem) + bin\n",
    "    l = len(bin)\n",
    "    # if l<length and l!=-1:\n",
    "    padding = (length-l)*'0'\n",
    "    bin =  padding + bin\n",
    "    return bin"
   ]
  },
  {
   "cell_type": "code",
   "execution_count": 5,
   "metadata": {},
   "outputs": [
    {
     "data": {
      "text/plain": [
       "'0011'"
      ]
     },
     "execution_count": 5,
     "metadata": {},
     "output_type": "execute_result"
    }
   ],
   "source": [
    "dec2bin(3,4)"
   ]
  },
  {
   "cell_type": "markdown",
   "metadata": {},
   "source": [
    "## Key generation\n"
   ]
  },
  {
   "cell_type": "markdown",
   "metadata": {},
   "source": [
    "We start with a 64 bit key"
   ]
  },
  {
   "cell_type": "code",
   "execution_count": 6,
   "metadata": {},
   "outputs": [],
   "source": [
    "key_arr = list('0111101100101101001001010111011001110101001101010111100100110111')"
   ]
  },
  {
   "cell_type": "code",
   "execution_count": 7,
   "metadata": {},
   "outputs": [],
   "source": [
    "def parity_drop(key_arr):\n",
    "    out_arr = []\n",
    "    order_arr = [57, 49, 41, 33, 25, 17, 9,\n",
    "                1, 58, 50, 42, 34, 26, 18,\n",
    "                10,  2, 59, 51, 43, 35, 27,\n",
    "                19, 11,  3, 60, 52, 44, 36,\n",
    "                63, 55, 47, 39, 31, 23, 15,\n",
    "                7, 62, 54, 46, 38, 30, 22,\n",
    "                14,  6, 61, 53, 45, 37, 29,\n",
    "                21, 13,  5, 28, 20, 12,  4]\n",
    "    for i in range(len(order_arr)):\n",
    "        out_arr.append(key_arr[order_arr[i]-1])\n",
    "    return out_arr\n"
   ]
  },
  {
   "cell_type": "code",
   "execution_count": 8,
   "metadata": {},
   "outputs": [
    {
     "data": {
      "text/plain": [
       "56"
      ]
     },
     "execution_count": 8,
     "metadata": {},
     "output_type": "execute_result"
    }
   ],
   "source": [
    "pd_key_arr = parity_drop(key_arr)\n",
    "len(pd_key_arr)"
   ]
  },
  {
   "cell_type": "code",
   "execution_count": 9,
   "metadata": {},
   "outputs": [],
   "source": [
    "def PC2(key_arr):\n",
    "    out_arr = []\n",
    "    order_arr = [14, 17, 11, 24,  1,  5,\n",
    "                3, 28, 15,  6, 21, 10,\n",
    "                23, 19, 12,  4, 26,  8,\n",
    "                16,  7, 27, 20, 13,  2,\n",
    "                41, 52, 31, 37, 47, 55,\n",
    "                30, 40, 51, 45, 33, 48,\n",
    "                44, 49, 39, 56, 34, 53,\n",
    "                46, 42, 50, 36, 29, 32]\n",
    "    for i in range(len(order_arr)):\n",
    "        out_arr.append(key_arr[order_arr[i]-1])\n",
    "    return out_arr\n"
   ]
  },
  {
   "cell_type": "code",
   "execution_count": 10,
   "metadata": {},
   "outputs": [],
   "source": [
    "def round_key_generator(pd_key_arr):\n",
    "    '''Generates the keys for each round of DES\n",
    "    Input:\n",
    "    The key of DES after parity drop\n",
    "    '''\n",
    "    \n",
    "    round_keys = []\n",
    "\n",
    "    # Splitting into left and right halves\n",
    "    left = pd_key_arr[:28]\n",
    "    right = pd_key_arr[28:]\n",
    "\n",
    "\n",
    "    for i in range(16):\n",
    "        # Shifting both halves left by one place circularly\n",
    "        left = left[1:] + [left[0]]\n",
    "        right = right[1:] + [right[0]]\n",
    "\n",
    "        round_keys.append(PC2(left+right))\n",
    "    \n",
    "    return round_keys"
   ]
  },
  {
   "cell_type": "code",
   "execution_count": 11,
   "metadata": {},
   "outputs": [
    {
     "data": {
      "text/plain": [
       "48"
      ]
     },
     "execution_count": 11,
     "metadata": {},
     "output_type": "execute_result"
    }
   ],
   "source": [
    "round_keys = round_key_generator(pd_key_arr)\n",
    "len(round_keys[0])"
   ]
  },
  {
   "cell_type": "markdown",
   "metadata": {},
   "source": [
    "## Encryption"
   ]
  },
  {
   "cell_type": "markdown",
   "metadata": {},
   "source": [
    "### Step 1: Initial permutation"
   ]
  },
  {
   "cell_type": "code",
   "execution_count": 12,
   "metadata": {},
   "outputs": [],
   "source": [
    "def initial_permutation(input_arr:str):\n",
    "    output_arr = []\n",
    "    ordering_arr = [58, 50, 42, 34, 26, 18, 10, 2,\n",
    "                    60, 52, 44, 36, 28, 20, 12, 4,\n",
    "                    62, 54, 46, 38, 30, 22, 14, 6,\n",
    "                    64, 56, 48, 40, 32, 24, 16, 8,\n",
    "                    57, 49, 41, 33, 25, 17, 9, 1,\n",
    "                    59, 51, 43, 35, 27, 19, 11, 3,\n",
    "                    61, 53, 45, 37, 29, 21, 13, 5,\n",
    "                    63, 55, 47, 39, 31, 23, 15, 7]\n",
    "    for i in range(64):\n",
    "        output_arr.append(input_arr[ordering_arr[i]-1])\n",
    "    return output_arr"
   ]
  },
  {
   "cell_type": "code",
   "execution_count": 13,
   "metadata": {},
   "outputs": [],
   "source": [
    "inp_arr = list('0110111001101001011000110110011101100111011011110110111101100001')\n",
    "curr_arr = initial_permutation(inp_arr)"
   ]
  },
  {
   "cell_type": "markdown",
   "metadata": {},
   "source": [
    "### Step 2: DES function"
   ]
  },
  {
   "cell_type": "markdown",
   "metadata": {},
   "source": [
    "We split the input(**64 bits**) into 2 parts of **32 bits** each"
   ]
  },
  {
   "cell_type": "code",
   "execution_count": 14,
   "metadata": {},
   "outputs": [],
   "source": [
    "lt_round_0_init = curr_arr[:32]\n",
    "rt_round_0_init = curr_arr[32:]\n",
    "\n",
    "lt_round_0 = lt_round_0_init\n",
    "rt_round_0 = rt_round_0_init"
   ]
  },
  {
   "cell_type": "markdown",
   "metadata": {},
   "source": [
    "#### Step 2.1 Expansion permutation\n",
    "input : 32 bits  \n",
    "output : 64 bits"
   ]
  },
  {
   "cell_type": "code",
   "execution_count": 15,
   "metadata": {},
   "outputs": [],
   "source": [
    "def ExpansionPBlock(input_arr: str):\n",
    "    output_arr = []\n",
    "    ordering_arr = [32,  1,  2,  3,  4,  5,\n",
    "                    4,  5,  6,  7,  8,  9,\n",
    "                    8,  9, 10, 11, 12, 13,\n",
    "                    12, 13, 14, 15, 16, 17,\n",
    "                    16, 17, 18, 19, 20, 21,\n",
    "                    20, 21, 22, 23, 24, 25,\n",
    "                    24, 25, 26, 27, 28, 29,\n",
    "                    28, 29, 30, 31, 32,  1]\n",
    "    for i in range(48):\n",
    "        output_arr.append(input_arr[ordering_arr[i]-1])\n",
    "    return output_arr    "
   ]
  },
  {
   "cell_type": "code",
   "execution_count": 16,
   "metadata": {},
   "outputs": [],
   "source": [
    "rt_round_0 = ExpansionPBlock(rt_round_0)"
   ]
  },
  {
   "cell_type": "markdown",
   "metadata": {},
   "source": [
    "#### Step 2.2 Whitener(XOR)\n",
    "We perform a XOR operation of the outcome and the round key (Only performing round 1 here)"
   ]
  },
  {
   "cell_type": "code",
   "execution_count": 17,
   "metadata": {},
   "outputs": [],
   "source": [
    "def whitener(rt_round,round_keys,round_num):\n",
    "    # converting list to str to int for XOR operation\n",
    "    rt_round_str = ''.join(rt_round)\n",
    "    # print(len(rt_round_str))\n",
    "    rt_round_int = bin2dec(rt_round_str)\n",
    "    # print(rt_round_int)\n",
    "\n",
    "    round_key = round_keys[round_num]\n",
    "    round_key_str = ''.join(round_key)\n",
    "    # print(len(round_key_str))\n",
    "    round_key_int = bin2dec(round_key_str)\n",
    "    # print(round_key_int)\n",
    "\n",
    "    rt_round_int = rt_round_int ^ round_key_int\n",
    "    # print(rt_round_int)\n",
    "    rt_round_str = dec2bin(rt_round_int,48)\n",
    "    print(rt_round_str)\n",
    "    rt_round = list(rt_round_str)\n",
    "\n",
    "    return rt_round"
   ]
  },
  {
   "cell_type": "code",
   "execution_count": 18,
   "metadata": {},
   "outputs": [
    {
     "name": "stdout",
     "output_type": "stream",
     "text": [
      "111100001011100101010010011101011010100011100111\n"
     ]
    }
   ],
   "source": [
    "rt_round_0 = whitener(rt_round_0,round_keys,0)"
   ]
  },
  {
   "cell_type": "code",
   "execution_count": 19,
   "metadata": {},
   "outputs": [],
   "source": [
    "# # converting list to str to int for XOR operation\n",
    "# rt_round_0_str = ''.join(rt_round_0)\n",
    "# print(len(rt_round_0_str))\n",
    "# rt_round_0_int = bin2dec(rt_round_0_str)\n",
    "# print(rt_round_0_int)\n",
    "\n",
    "# round_key_0 = round_keys[0]\n",
    "# round_key_0_str = ''.join(round_key_0)\n",
    "# print(len(round_key_0_str))\n",
    "# round_key_0_int = bin2dec(round_key_0_str)\n",
    "# print(round_key_0_int)\n",
    "\n",
    "# rt_round_0_int = rt_round_0_int ^ round_key_0_int\n",
    "# print(rt_round_0_int)\n",
    "# rt_round_0_str = dec2bin(rt_round_0_int,48)\n",
    "# print(rt_round_0_str)\n",
    "# rt_round_0 = list(rt_round_0_str)"
   ]
  },
  {
   "cell_type": "markdown",
   "metadata": {},
   "source": [
    "#### Step 2.3 S boxes"
   ]
  },
  {
   "cell_type": "code",
   "execution_count": 20,
   "metadata": {},
   "outputs": [],
   "source": [
    "# a = list('1001')\n",
    "# row = a[0] + a[-1]\n",
    "# col = a[1:-1]\n",
    "# row = bin2dec(''.join(row))\n",
    "# row"
   ]
  },
  {
   "cell_type": "code",
   "execution_count": 21,
   "metadata": {},
   "outputs": [],
   "source": [
    "Sboxes_order = [\n",
    "    [\n",
    "    [14, 4, 13, 1, 2, 15, 11, 8, 3, 10, 6, 12, 5, 9, 0, 7],\n",
    "    [0, 15, 7, 4, 14, 2, 13, 1, 10, 6, 12, 11, 9, 5, 3, 8],\n",
    "    [4, 1, 14, 8, 13, 6, 2, 11, 15, 12, 9, 7, 3, 10, 5, 0],\n",
    "    [15, 12, 8, 2, 4, 9, 1, 7, 5, 11, 3, 14, 10, 0, 6, 13]\n",
    "    ],\n",
    "    [\n",
    "    [15, 1, 8, 14, 6, 11, 3, 4, 9, 7, 2, 13, 12, 0, 5, 10],\n",
    "    [3, 13, 4, 7, 15, 2, 8, 14, 12, 0, 1, 10, 6, 9, 11, 5],\n",
    "    [0, 14, 7, 11, 10, 4, 13, 1, 5, 8, 12, 6, 9, 3, 2, 15],\n",
    "    [13, 8, 10, 1, 3, 15, 4, 2, 11, 6, 7, 12, 0, 5, 14, 9]\n",
    "    ],\n",
    "    [\n",
    "    [10, 0, 9, 14, 6, 3, 15, 5, 1, 13, 12, 7, 11, 4, 2, 8],\n",
    "    [13, 7, 0, 9, 3, 4, 6, 10, 2, 8, 5, 14, 12, 11, 15, 1],\n",
    "    [13, 6, 4, 9, 8, 15, 3, 0, 11, 1, 2, 12, 5, 10, 14, 7],\n",
    "    [1, 10, 13, 0, 6, 9, 8, 7, 4, 15, 14, 3, 11, 5, 2, 12]\n",
    "    ],\n",
    "    [\n",
    "    [7, 13, 14, 3, 0, 6, 9, 10, 1, 2, 8, 5, 11, 12, 4, 15],\n",
    "    [13, 8, 11, 5, 6, 15, 0, 3, 4, 7, 2, 12, 1, 10, 14, 9],\n",
    "    [10, 6, 9, 0, 12, 11, 7, 13, 15, 1, 3, 14, 5, 2, 8, 4],\n",
    "    [3, 15, 0, 6, 10, 1, 13, 8, 9, 4, 5, 11, 12, 7, 2, 14]\n",
    "    ],\n",
    "    [\n",
    "    [2, 12, 4, 1, 7, 10, 11, 6, 8, 5, 3, 15, 13, 0, 14, 9],\n",
    "    [14, 11, 2, 12, 4, 7, 13, 1, 5, 0, 15, 10, 3, 9, 8, 6],\n",
    "    [4, 2, 1, 11, 10, 13, 7, 8, 15, 9, 12, 5, 6, 3, 0, 14],\n",
    "    [11, 8, 12, 7, 1, 14, 2, 13, 6, 15, 0, 9, 10, 4, 5, 3]\n",
    "    ],\n",
    "    [\n",
    "    [12, 1, 10, 15, 9, 2, 6, 8, 0, 13, 3, 4, 14, 7, 5, 11],\n",
    "    [10, 15, 4, 2, 7, 12, 9, 5, 6, 1, 13, 14, 0, 11, 3, 8],\n",
    "    [9, 14, 15, 5, 2, 8, 12, 3, 7, 0, 4, 10, 1, 13, 11, 6],\n",
    "    [4, 3, 2, 12, 9, 5, 15, 10, 11, 14, 1, 7, 6, 0, 8, 13]\n",
    "    ],\n",
    "    [\n",
    "    [4, 11, 2, 14, 15, 0, 8, 13, 3, 12, 9, 7, 5, 10, 6, 1],\n",
    "    [13, 0, 11, 7, 4, 9, 1, 10, 14, 3, 5, 12, 2, 15, 8, 6],\n",
    "    [1, 4, 11, 13, 12, 3, 7, 14, 10, 15, 6, 8, 0, 5, 9, 2],\n",
    "    [6, 11, 13, 8, 1, 4, 10, 7, 9, 5, 0, 15, 14, 2, 3, 12]\n",
    "    ],\n",
    "    [\n",
    "    [13, 2, 8, 4, 6, 15, 11, 1, 10, 9, 3, 14, 5, 0, 12, 7],\n",
    "    [1, 15, 13, 8, 10, 3, 7, 4, 12, 5, 6, 11, 0, 14, 9, 2],\n",
    "    [7, 11, 4, 1, 9, 12, 14, 2, 0, 6, 10, 13, 15, 3, 5, 8],\n",
    "    [2, 1, 14, 7, 4, 10, 8, 13, 15, 12, 9, 0, 3, 5, 6, 11]\n",
    "    ]\n",
    "]"
   ]
  },
  {
   "cell_type": "code",
   "execution_count": 22,
   "metadata": {},
   "outputs": [],
   "source": [
    "def sbox_val(inp_arr,sbox):\n",
    "\n",
    "    # Getting row and col values from the input\n",
    "    row = inp_arr[0] + inp_arr[-1]\n",
    "    row_int = bin2dec(''.join(row))\n",
    "    col = inp_arr[1:-1]\n",
    "    col_int = bin2dec(''.join(col))\n",
    "\n",
    "    # finding the substition value\n",
    "    out_int = sbox[row_int][col_int]\n",
    "    print(f'{out_int=}')\n",
    "    out_str = dec2bin(out_int,4)\n",
    "    print(out_str)\n",
    "    return list(out_str)\n",
    "\n",
    "    "
   ]
  },
  {
   "cell_type": "code",
   "execution_count": 23,
   "metadata": {},
   "outputs": [],
   "source": [
    "def Sboxes(rt_round,sboxes):\n",
    "    # First we divide our current output into 8 parts(6 bits each)\n",
    "    s_inps = [rt_round_0[:6],\n",
    "        rt_round_0[6:12],\n",
    "        rt_round_0[12:18],\n",
    "        rt_round_0[18:24],\n",
    "        rt_round_0[24:30],\n",
    "        rt_round_0[30:36],\n",
    "        rt_round_0[36:42],\n",
    "        rt_round_0[42:48]\n",
    "    ]\n",
    "    \n",
    "    sbox_outs = []\n",
    "    # getting the values for S box\n",
    "    for i in range(8):\n",
    "        sbox_outs += sbox_val(s_inps[i],Sboxes_order[i])\n",
    "    \n",
    "    return sbox_outs"
   ]
  },
  {
   "cell_type": "code",
   "execution_count": 24,
   "metadata": {},
   "outputs": [
    {
     "name": "stdout",
     "output_type": "stream",
     "text": [
      "out_int=5\n",
      "0101\n",
      "out_int=2\n",
      "0010\n",
      "out_int=13\n",
      "1101\n",
      "out_int=2\n",
      "0010\n",
      "out_int=8\n",
      "1000\n",
      "out_int=7\n",
      "0111\n",
      "out_int=11\n",
      "1011\n",
      "out_int=7\n",
      "0111\n"
     ]
    }
   ],
   "source": [
    "rt_round_0 = Sboxes(rt_round_0,Sboxes_order)"
   ]
  },
  {
   "cell_type": "code",
   "execution_count": 25,
   "metadata": {},
   "outputs": [
    {
     "data": {
      "text/plain": [
       "'01010010110100101000011110110111'"
      ]
     },
     "execution_count": 25,
     "metadata": {},
     "output_type": "execute_result"
    }
   ],
   "source": [
    "''.join(rt_round_0)"
   ]
  },
  {
   "cell_type": "markdown",
   "metadata": {},
   "source": [
    "#### Step 2.4 Straight permutation box"
   ]
  },
  {
   "cell_type": "code",
   "execution_count": 26,
   "metadata": {},
   "outputs": [],
   "source": [
    "def straight_pbox(inp_arr):\n",
    "    out_arr = []\n",
    "    order_arr = [16,  7, 20, 21,\n",
    "                29, 12, 28, 17,\n",
    "                1, 15, 23, 26,\n",
    "                5, 18, 31, 10,\n",
    "                2,  8, 24, 14,\n",
    "                32, 27,  3,  9,\n",
    "                19, 13, 30,  6,\n",
    "                22, 11,  4, 25]\n",
    "    for i in range(32):\n",
    "        out_arr.append(inp_arr[order_arr[i]-1])\n",
    "    return out_arr"
   ]
  },
  {
   "cell_type": "code",
   "execution_count": 27,
   "metadata": {},
   "outputs": [],
   "source": [
    "rt_round_0 = straight_pbox(rt_round_0)"
   ]
  },
  {
   "cell_type": "markdown",
   "metadata": {},
   "source": [
    "#### Step 2.5 XOR with left side"
   ]
  },
  {
   "cell_type": "code",
   "execution_count": 28,
   "metadata": {},
   "outputs": [
    {
     "name": "stdout",
     "output_type": "stream",
     "text": [
      "lt_round_0_str='11111111000000000111100111111110'\n",
      "rt_round_0_str='01000111011000111010110100101011'\n",
      "lt_round_0_int=4278221310\n",
      "rt_round_0_int=1197714731\n",
      "3093550293\n",
      "['1', '0', '1', '1', '1', '0', '0', '0', '0', '1', '1', '0', '0', '0', '1', '1', '1', '1', '0', '1', '0', '1', '0', '0', '1', '1', '0', '1', '0', '1', '0', '1']\n"
     ]
    }
   ],
   "source": [
    "# Converting to int first\n",
    "lt_round_0_str = ''.join(lt_round_0)\n",
    "rt_round_0_str = ''.join(rt_round_0)\n",
    "print(f'{lt_round_0_str=}\\n{rt_round_0_str=}')\n",
    "\n",
    "# Converting to decimal and XOR\n",
    "lt_round_0_int = bin2dec(lt_round_0_str)\n",
    "rt_round_0_int = bin2dec(rt_round_0_str)\n",
    "print(f'{lt_round_0_int=}\\n{rt_round_0_int=}')\n",
    "lt_round_0_final_int = lt_round_0_int ^ rt_round_0_int\n",
    "print(lt_round_0_final_int)\n",
    "\n",
    "# Converting back to a list\n",
    "lt_round_0_final_str = dec2bin(lt_round_0_final_int,32)\n",
    "lt_round_0_final = list(lt_round_0_final_str)\n",
    "print(lt_round_0_final)\n"
   ]
  },
  {
   "cell_type": "code",
   "execution_count": 29,
   "metadata": {},
   "outputs": [],
   "source": [
    "rt_round_0_final = rt_round_0_init"
   ]
  },
  {
   "cell_type": "markdown",
   "metadata": {},
   "source": [
    "### Step 3: Swap\n",
    "We will swap the left and right half of the cipher"
   ]
  },
  {
   "cell_type": "code",
   "execution_count": 30,
   "metadata": {},
   "outputs": [],
   "source": [
    "lt_round_1_init = rt_round_0_final\n",
    "rt_round_1_init = lt_round_0_final"
   ]
  },
  {
   "cell_type": "markdown",
   "metadata": {},
   "source": [
    "So, the begining value of round 1 will look something as follows"
   ]
  },
  {
   "cell_type": "code",
   "execution_count": 31,
   "metadata": {},
   "outputs": [
    {
     "data": {
      "text/plain": [
       "'0000000011111111011000110111110110111000011000111101010011010101'"
      ]
     },
     "execution_count": 31,
     "metadata": {},
     "output_type": "execute_result"
    }
   ],
   "source": [
    "''.join(lt_round_1_init+rt_round_1_init)"
   ]
  }
 ],
 "metadata": {
  "kernelspec": {
   "display_name": "Python 3",
   "language": "python",
   "name": "python3"
  },
  "language_info": {
   "codemirror_mode": {
    "name": "ipython",
    "version": 3
   },
   "file_extension": ".py",
   "mimetype": "text/x-python",
   "name": "python",
   "nbconvert_exporter": "python",
   "pygments_lexer": "ipython3",
   "version": "3.10.12"
  }
 },
 "nbformat": 4,
 "nbformat_minor": 2
}
